{
 "cells": [
  {
   "cell_type": "markdown",
   "id": "d3bfc191-8885-42ee-b0a0-bbab867c6f9f",
   "metadata": {
    "tags": []
   },
   "source": [
    "# Lab | Flow Control"
   ]
  },
  {
   "cell_type": "markdown",
   "id": "3851fcd1-cf98-4653-9c89-e003b7ec9400",
   "metadata": {},
   "source": [
    "## Exercise: Managing Customer Orders Optimized\n",
    "\n",
    "In the last lab, you were starting an online store that sells various products. To ensure smooth operations, you developed a program that manages customer orders and inventory.\n",
    "\n",
    "You did so without using flow control. Let's go a step further and improve this code.\n",
    "\n",
    "Follow the steps below to complete the exercise:\n",
    "\n",
    "1. Look at your code from the lab data structures, and improve repeated code with loops.\n",
    "\n",
    "2. Instead of asking the user to input the name of three products that a customer wants to order, do the following:\n",
    "    \n",
    "    a. Prompt the user to enter the name of a product that a customer wants to order.\n",
    "    \n",
    "    b. Add the product name to the \"customer_orders\" set.\n",
    "    \n",
    "    c. Ask the user if they want to add another product (yes/no).\n",
    "    \n",
    "    d. Continue the loop until the user does not want to add another product.\n",
    "\n",
    "3. Instead of updating the inventory by subtracting 1 from the quantity of each product, only do it for  the products that were ordered (those in \"customer_orders\")."
   ]
  },
  {
   "cell_type": "code",
   "execution_count": 13,
   "id": "d8ba09f7-9e54-48ec-89f0-ef1081ae9a6e",
   "metadata": {},
   "outputs": [
    {
     "name": "stdin",
     "output_type": "stream",
     "text": [
      "Enter quantity of t-shirts available:  2\n",
      "Enter quantity of mugs available:  3\n",
      "Enter quantity of hats available:  4\n",
      "Enter quantity of books available:  5\n",
      "Enter quantity of keychains available:  6\n"
     ]
    },
    {
     "name": "stdout",
     "output_type": "stream",
     "text": [
      "{'t-shirt': 2, 'mug': 3, 'hat': 4, 'book': 5, 'keychain': 6}\n"
     ]
    }
   ],
   "source": [
    "#Look at your code from the lab data structures, and improve repeated code with loops.\n",
    "#Define a list called products that contains the following items: \"t-shirt\", \"mug\", \"hat\", \"book\", \"keychain\".\n",
    "\n",
    "products = [\"t-shirt\", \"mug\", \"hat\", \"book\", \"keychain\"]\n",
    "\n",
    "# Create an empty dictionary called inventory.\n",
    "inventory = {}\n",
    "\n",
    "# Ask the user to input the quantity of each product available in the inventory.\n",
    "for product in products:\n",
    "    # Prompt the user for input and convert it to an integer\n",
    "    quantity = int(input(f\"Enter quantity of {product}s available: \"))\n",
    "    # Store the quantity in the dictionary with the product as the key\n",
    "    inventory[product] = quantity\n",
    "\n",
    "# Print the inventory dictionary\n",
    "print(inventory)\n",
    "\n"
   ]
  },
  {
   "cell_type": "markdown",
   "id": "af75c083-a20f-40a2-a306-7ef095234af2",
   "metadata": {},
   "source": [
    "\n",
    "#Create an empty set\n",
    "customer_orders=set()\n",
    "\n",
    "#Ask the user to input the name of three products that a customer wants to order (from those in the products list, meaning three products out of \"t-shirt\", \"mug\", \"hat\", \"book\" or \"keychain\". Add each product name to the customer_orders set.\n",
    "#Instead of asking the user to input the name of three products that a customer wants to order, do the following:\n",
    "#a. Prompt the user to enter the name of a product that a customer wants to order.\n",
    "#b. Add the product name to the \"customer_orders\" set.\n",
    "\n",
    "for product in range(3):\n",
    "    item = str(input(f\"Enter 3 product names \"))\n",
    "    while item not in products:\n",
    "        print(\"Please enter a product from the list\")\n",
    "        item= input(\"Enter a name of product\")\n",
    "    customer_orders.add(item)\n",
    "        \n",
    "\n",
    "print(customer_orders)"
   ]
  },
  {
   "cell_type": "code",
   "execution_count": 67,
   "id": "d7079248-972c-4ca9-9d4b-71e4ac92fd63",
   "metadata": {},
   "outputs": [
    {
     "name": "stdin",
     "output_type": "stream",
     "text": [
      "Enter a product from the list book\n",
      "Add another product? (yes/no):  yes\n",
      "Enter a product from the list mug\n",
      "Add another product? (yes/no):  yes\n",
      "Enter a product from the list hallo\n"
     ]
    },
    {
     "name": "stdout",
     "output_type": "stream",
     "text": [
      "Invalid product name. Please enter a valid product from the list.\n"
     ]
    },
    {
     "name": "stdin",
     "output_type": "stream",
     "text": [
      "Add another product? (yes/no):  no\n"
     ]
    },
    {
     "name": "stdout",
     "output_type": "stream",
     "text": [
      "\n",
      "Customer Orders:\n",
      "{'mug', 'book'}\n"
     ]
    }
   ],
   "source": [
    "\n",
    "#Create an empty set\n",
    "customer_orders=set()\n",
    "\n",
    "#Ask the user to input the name of three products that a customer wants to order (from those in the products list, meaning three products out of \"t-shirt\", \"mug\", \"hat\", \"book\" or \"keychain\". Add each product name to the customer_orders set.\n",
    "#Instead of asking the user to input the name of three products that a customer wants to order, do the following:\n",
    "#a. Prompt the user to enter the name of a product that a customer wants to order.\n",
    "#b. Add the product name to the \"customer_orders\" set.\n",
    "#c. Ask the user if they want to add another product (yes/no).\n",
    "#d. Continue the loop until the user does not want to add another product\n",
    "\n",
    "\n",
    "while True:\n",
    "    # Prompt the user to enter a product name\n",
    "    product = input(\"Enter a product from the list\").strip().lower()\n",
    "    \n",
    "    # Check if the entered product is valid\n",
    "    if product in products:\n",
    "        # Add the product to the customer_orders set\n",
    "        customer_orders.add(product)\n",
    "    else:\n",
    "        print(\"Invalid product name. Please enter a valid product from the list.\")\n",
    "\n",
    "    # Ask the user if they want to add another product\n",
    "    add_more = input(\"Add another product? (yes/no): \").strip().lower()\n",
    "    \n",
    "    # Break the loop if the user does not want to add more products\n",
    "    if add_more != 'yes':\n",
    "        break\n",
    "\n",
    "print(\"\\nCustomer Orders:\")\n",
    "print(customer_orders)\n"
   ]
  },
  {
   "cell_type": "code",
   "execution_count": 47,
   "id": "d76cd000-0d6e-4c56-99cb-7657ed2b4c2c",
   "metadata": {},
   "outputs": [
    {
     "name": "stdout",
     "output_type": "stream",
     "text": [
      "3\n",
      "60.0\n",
      "Order Statistics:\n",
      "Total Products Ordered: 3\n",
      "Percentage of Products Ordered: 60.0%\n"
     ]
    }
   ],
   "source": [
    "#Calculate the following order statistics:\n",
    "\n",
    "#Total Products Ordered: The total number of products in the customer_orders set.\n",
    "#Percentage of Products Ordered: The percentage of products ordered compared to the total available products.\n",
    "#Store these statistics in a tuple called order_status.\n",
    "\n",
    "total = len(customer_orders)\n",
    "percentage = len(customer_orders) / len(products) *100\n",
    "\n",
    "print(total)\n",
    "print(percentage) and print( \"%\")\n",
    "\n",
    "print(\"Order Statistics:\")\n",
    "print(f\"Total Products Ordered: {total}\")\n",
    "print(f\"Percentage of Products Ordered: {percentage}%\")\n"
   ]
  },
  {
   "cell_type": "code",
   "execution_count": 55,
   "id": "9f72e9a2-71c9-4efb-9d03-7a8d3d61c9ee",
   "metadata": {},
   "outputs": [
    {
     "name": "stdout",
     "output_type": "stream",
     "text": [
      "Updated Inventory:\n",
      "t-shirt: 2\n",
      "mug: 0\n",
      "hat: 0\n",
      "book: 1\n",
      "keychain: 6\n"
     ]
    }
   ],
   "source": [
    "#Update the inventory by subtracting 1 from the quantity of each product. Modify the inventory dictionary accordingly.\n",
    "\n",
    "\n",
    "for product in customer_orders:\n",
    "   if inventory.get(product) is not None:\n",
    "       inventory[product] = max(0, inventory[product] - 1)\n",
    "\n",
    "\n",
    "print(\"Updated Inventory:\")\n",
    "for product, quantity in inventory.items():\n",
    "   print(f\"{product}: {quantity}\")\n"
   ]
  },
  {
   "cell_type": "code",
   "execution_count": null,
   "id": "c8506a50-455e-4f88-8333-f2c3c5347604",
   "metadata": {},
   "outputs": [],
   "source": []
  }
 ],
 "metadata": {
  "kernelspec": {
   "display_name": "Python 3 (ipykernel)",
   "language": "python",
   "name": "python3"
  },
  "language_info": {
   "codemirror_mode": {
    "name": "ipython",
    "version": 3
   },
   "file_extension": ".py",
   "mimetype": "text/x-python",
   "name": "python",
   "nbconvert_exporter": "python",
   "pygments_lexer": "ipython3",
   "version": "3.12.4"
  }
 },
 "nbformat": 4,
 "nbformat_minor": 5
}
